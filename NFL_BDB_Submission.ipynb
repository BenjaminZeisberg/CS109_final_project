{
 "cells": [
  {
   "cell_type": "code",
   "execution_count": 1,
   "id": "4dd69ce6",
   "metadata": {
    "_cell_guid": "b1076dfc-b9ad-4769-8c92-a6c4dae69d19",
    "_kg_hide-input": true,
    "_kg_hide-output": true,
    "_uuid": "8f2839f25d086af736a60e9eeb907d3b93b6e0e5",
    "execution": {
     "iopub.execute_input": "2023-01-09T23:47:26.880364Z",
     "iopub.status.busy": "2023-01-09T23:47:26.879765Z",
     "iopub.status.idle": "2023-01-09T23:47:26.894900Z",
     "shell.execute_reply": "2023-01-09T23:47:26.893678Z"
    },
    "papermill": {
     "duration": 0.028544,
     "end_time": "2023-01-09T23:47:26.897750",
     "exception": false,
     "start_time": "2023-01-09T23:47:26.869206",
     "status": "completed"
    },
    "tags": []
   },
   "outputs": [
    {
     "name": "stdout",
     "output_type": "stream",
     "text": [
      "/kaggle/input/nfl-big-data-bowl-2023/players.csv\n",
      "/kaggle/input/nfl-big-data-bowl-2023/week6.csv\n",
      "/kaggle/input/nfl-big-data-bowl-2023/week2.csv\n",
      "/kaggle/input/nfl-big-data-bowl-2023/pffScoutingData.csv\n",
      "/kaggle/input/nfl-big-data-bowl-2023/week3.csv\n",
      "/kaggle/input/nfl-big-data-bowl-2023/week8.csv\n",
      "/kaggle/input/nfl-big-data-bowl-2023/games.csv\n",
      "/kaggle/input/nfl-big-data-bowl-2023/week5.csv\n",
      "/kaggle/input/nfl-big-data-bowl-2023/week7.csv\n",
      "/kaggle/input/nfl-big-data-bowl-2023/week1.csv\n",
      "/kaggle/input/nfl-big-data-bowl-2023/week4.csv\n",
      "/kaggle/input/nfl-big-data-bowl-2023/plays.csv\n"
     ]
    }
   ],
   "source": [
    "# This Python 3 environment comes with many helpful analytics libraries installed\n",
    "# It is defined by the kaggle/python Docker image: https://github.com/kaggle/docker-python\n",
    "# For example, here's several helpful packages to load\n",
    "\n",
    "import numpy as np # linear algebra\n",
    "import pandas as pd # data processing, CSV file I/O (e.g. pd.read_csv)\n",
    "\n",
    "# Input data files are available in the read-only \"../input/\" directory\n",
    "# For example, running this (by clicking run or pressing Shift+Enter) will list all files under the input directory\n",
    "\n",
    "import os\n",
    "for dirname, _, filenames in os.walk('/kaggle/input'):\n",
    "    for filename in filenames:\n",
    "        print(os.path.join(dirname, filename))\n",
    "\n",
    "# You can write up to 20GB to the current directory (/kaggle/working/) that gets preserved as output when you create a version using \"Save & Run All\" \n",
    "# You can also write temporary files to /kaggle/temp/, but they won't be saved outside of the current session"
   ]
  },
  {
   "cell_type": "code",
   "execution_count": 2,
   "id": "eff58734",
   "metadata": {
    "_kg_hide-input": true,
    "_kg_hide-output": true,
    "execution": {
     "iopub.execute_input": "2023-01-09T23:47:26.915028Z",
     "iopub.status.busy": "2023-01-09T23:47:26.914190Z",
     "iopub.status.idle": "2023-01-09T23:57:03.311845Z",
     "shell.execute_reply": "2023-01-09T23:57:03.310521Z"
    },
    "papermill": {
     "duration": 576.40986,
     "end_time": "2023-01-09T23:57:03.314809",
     "exception": false,
     "start_time": "2023-01-09T23:47:26.904949",
     "status": "completed"
    },
    "tags": []
   },
   "outputs": [
    {
     "name": "stderr",
     "output_type": "stream",
     "text": [
      "/opt/conda/lib/python3.7/site-packages/ipykernel_launcher.py:306: VisibleDeprecationWarning: Creating an ndarray from ragged nested sequences (which is a list-or-tuple of lists-or-tuples-or ndarrays with different lengths or shapes) is deprecated. If you meant to do this, you must specify 'dtype=object' when creating the ndarray.\n",
      "/opt/conda/lib/python3.7/site-packages/ipykernel_launcher.py:311: UserWarning: Boolean Series key will be reindexed to match DataFrame index.\n",
      "/opt/conda/lib/python3.7/site-packages/ipykernel_launcher.py:345: DataConversionWarning: A column-vector y was passed when a 1d array was expected. Please change the shape of y to (n_samples,), for example using ravel().\n",
      "/opt/conda/lib/python3.7/site-packages/ipykernel_launcher.py:345: DataConversionWarning: A column-vector y was passed when a 1d array was expected. Please change the shape of y to (n_samples,), for example using ravel().\n",
      "/opt/conda/lib/python3.7/site-packages/ipykernel_launcher.py:345: DataConversionWarning: A column-vector y was passed when a 1d array was expected. Please change the shape of y to (n_samples,), for example using ravel().\n",
      "/opt/conda/lib/python3.7/site-packages/ipykernel_launcher.py:345: DataConversionWarning: A column-vector y was passed when a 1d array was expected. Please change the shape of y to (n_samples,), for example using ravel().\n",
      "/opt/conda/lib/python3.7/site-packages/ipykernel_launcher.py:345: DataConversionWarning: A column-vector y was passed when a 1d array was expected. Please change the shape of y to (n_samples,), for example using ravel().\n",
      "/opt/conda/lib/python3.7/site-packages/ipykernel_launcher.py:345: DataConversionWarning: A column-vector y was passed when a 1d array was expected. Please change the shape of y to (n_samples,), for example using ravel().\n",
      "/opt/conda/lib/python3.7/site-packages/ipykernel_launcher.py:345: DataConversionWarning: A column-vector y was passed when a 1d array was expected. Please change the shape of y to (n_samples,), for example using ravel().\n",
      "/opt/conda/lib/python3.7/site-packages/ipykernel_launcher.py:345: DataConversionWarning: A column-vector y was passed when a 1d array was expected. Please change the shape of y to (n_samples,), for example using ravel().\n",
      "/opt/conda/lib/python3.7/site-packages/ipykernel_launcher.py:345: DataConversionWarning: A column-vector y was passed when a 1d array was expected. Please change the shape of y to (n_samples,), for example using ravel().\n",
      "/opt/conda/lib/python3.7/site-packages/ipykernel_launcher.py:345: DataConversionWarning: A column-vector y was passed when a 1d array was expected. Please change the shape of y to (n_samples,), for example using ravel().\n",
      "/opt/conda/lib/python3.7/site-packages/ipykernel_launcher.py:363: DataConversionWarning: A column-vector y was passed when a 1d array was expected. Please change the shape of y to (n_samples,), for example using ravel().\n"
     ]
    }
   ],
   "source": [
    "import seaborn as sns\n",
    "import numpy as np\n",
    "import pandas as pd\n",
    "import tensorflow as tf\n",
    "import matplotlib.pyplot as plt\n",
    "\n",
    "from sklearn.preprocessing import PolynomialFeatures\n",
    "from sklearn.model_selection import train_test_split\n",
    "from sklearn.preprocessing import LabelEncoder\n",
    "from sklearn.ensemble import RandomForestRegressor\n",
    "from sklearn.ensemble import AdaBoostClassifier\n",
    "from sklearn.metrics import confusion_matrix\n",
    "from sklearn.tree import DecisionTreeClassifier\n",
    "from sklearn.metrics import mean_squared_error\n",
    "\n",
    "from tensorflow.keras.preprocessing.sequence import pad_sequences\n",
    "from tensorflow.keras.utils import to_categorical\n",
    "from tensorflow.keras.models import Sequential\n",
    "from tensorflow.keras.layers import Dense, Conv1D, MaxPooling1D, Flatten\n",
    "\n",
    "from prettytable import PrettyTable\n",
    "\n",
    "#Get players function returns a dictionary of keys: gameID, playID, and the players on the field by position for \n",
    "# a given play keys: 'Rushers', 'Blockers', 'QB' and if the play was a trick or not key: 'Trick'. Rushers contains the stat \n",
    "# recorded for each rusher or none. Blockers contains the keys: block_assignment and block_type\n",
    "\n",
    "def get_players(\n",
    "    gameid: int,\n",
    "    playid: int,\n",
    "    data: pd.DataFrame,\n",
    ") -> (dict):\n",
    "    \n",
    "    play_dict = {}\n",
    "    \n",
    "    play_data = data[(data['gameId'] == gameid) & (data['playId'] == playid)]\n",
    "    \n",
    "    pass_rushers = play_data[play_data['pff_role'] == 'Pass Rush']['nflId'].values\n",
    "    pass_blockers = play_data[play_data['pff_role'] == 'Pass Block']['nflId'].values\n",
    "    QB = play_data[play_data['pff_positionLinedUp'] == 'QB']['nflId'].values[0]\n",
    "    \n",
    "    rushers = {}\n",
    "    if len(pass_rushers) == 0:\n",
    "        rushers = None\n",
    "    else:\n",
    "        for i in pass_rushers:\n",
    "            player = {}\n",
    "            player_data = play_data[(play_data['nflId'] == i)]\n",
    "            if player_data['pff_hit'].values[0] == 1:\n",
    "                player['stats'] = 'hit'\n",
    "                rushers[i] = player\n",
    "                continue\n",
    "            if player_data['pff_hurry'].values[0] == 1:\n",
    "                player['stats'] = 'hurry'\n",
    "                rushers[i] = player\n",
    "                continue\n",
    "            if player_data['pff_sack'].values[0] == 1:\n",
    "                player['stats'] = 'sack'\n",
    "                rushers[i] = player\n",
    "                continue\n",
    "            else:\n",
    "                player['stats'] = 'none'\n",
    "                rushers[i] = player\n",
    "    \n",
    "    blockers = {}\n",
    "    for i in pass_blockers:\n",
    "        player = {}\n",
    "        player_data = play_data[(play_data['nflId'] == i)]\n",
    "        block_type = player_data['pff_blockType'].values[0]\n",
    "        block_assignment = player_data['pff_nflIdBlockedPlayer'].values[0]\n",
    "        player['block_type'] = block_type\n",
    "        player['block_assignment'] = block_assignment\n",
    "        blockers[i] = player\n",
    "\n",
    "    trick_play = 1 if QB != play_data[play_data['pff_role'] == 'Pass']['nflId'].values[0] else 0\n",
    "    \n",
    "    play_dict['game_id'] = gameid\n",
    "    play_dict['play_id'] = playid\n",
    "    play_dict['Rushers'] = rushers\n",
    "    play_dict['Blockers'] = blockers\n",
    "    play_dict['QB'] = QB\n",
    "    play_dict['Trick'] = trick_play\n",
    "    \n",
    "    return play_dict\n",
    "\n",
    "#Takes the dictionary for a play created by get_players --> returns a dictionary\n",
    "# with appended information for each players. Each dicitonary has keys for the pass rushers on the field. The dictionary within each pass\n",
    "# rusher key contains the keys 'distances', 'speeds', and 'accelerations'.\n",
    "#Plays where the ball is released in less than 2 seconds are not included. \n",
    "\n",
    "def get_distances(\n",
    "    dictionary: dict,\n",
    "    data: pd.DataFrame\n",
    ") -> (dict):\n",
    "    \n",
    "    dictionary = dictionary\n",
    "    \n",
    "    locations = data[(data['gameId'] == dictionary['game_id']) & (data['playId'] == dictionary['play_id'])].sort_values(by='frameId')\n",
    "    \n",
    "    snap_frame = locations[locations['event'].isin(['ball_snap', 'autoevent_ballsnap'])]['frameId'].values\n",
    "    end_frame = locations[locations['event'].isin(['autoevent_passforward', 'autoevent_passinterrupted',\n",
    "                                                   'lateral', 'run', 'qb_strip_sack', 'qb_sack', 'pass_forward',\n",
    "                                                  ])]['frameId'].values\n",
    "    \n",
    "    if not len(snap_frame) or not len(end_frame):\n",
    "        return None\n",
    "\n",
    "    snap_frame = snap_frame[0]\n",
    "    end_frame = end_frame[0]\n",
    "    \n",
    "    rush_time_length = end_frame - snap_frame\n",
    "    dictionary['rush_time'] = rush_time_length\n",
    "\n",
    "    filtered_loc = locations[(locations['frameId'] >= snap_frame) & (locations['frameId'] <= end_frame)]\n",
    "\n",
    "    qb_locations = filtered_loc[(filtered_loc['nflId'] == dictionary['QB'])]\n",
    "    qb_speed = [row['s'] for _, row in qb_locations.iterrows()]\n",
    "    qbxy = [(row['x'], row['y']) for _, row in qb_locations.iterrows()]\n",
    "\n",
    "    rusher_distances = {}\n",
    "    \n",
    "    if dictionary['Rushers'] == None:\n",
    "            return dictionary\n",
    "\n",
    "    for i in dictionary['Rushers']:            \n",
    "        rusher_locations = filtered_loc[(filtered_loc['nflId'] == i)]  \n",
    "        rusherxy = [(row['x'], row['y']) for _, row in rusher_locations.iterrows()]\n",
    "        speed = [row['s'] for _, row in rusher_locations.iterrows()]\n",
    "        distances = []\n",
    "        for q in range(len(qbxy)):\n",
    "            distance = np.sqrt(((qbxy[q][0]-rusherxy[q][0])**2)+((qbxy[q][1]-rusherxy[q][1])**2))\n",
    "            distances.append(distance)\n",
    "        dictionary['Rushers'][i]['Positional_data'] = {'distances': np.asarray(distances), 'speeds': np.asarray(speed), 'qb_speed': np.asarray(qb_speed)}\n",
    "    \n",
    "    \n",
    "    return dictionary\n",
    "\n",
    "# Summation of (1/D) * Speed for each frame\n",
    "def pm1(distances: np.array, speeds: np.array\n",
    "       ) -> (int):\n",
    "    if distances is None:\n",
    "        return None\n",
    "    frame_values = []\n",
    "    for i in range(len(distances)):\n",
    "        value = (1/max([distances[i],.01]))* speeds[i]\n",
    "        frame_values.append(value)\n",
    "    return(sum(frame_values))\n",
    "\n",
    "# Max Frame Value of (1/D) * Speed \n",
    "def pm2(distances: np.array, speeds: np.array\n",
    "       ) -> (int):\n",
    "    if distances is None:\n",
    "        return None\n",
    "    frame_values = []\n",
    "    for i in range(len(distances)):\n",
    "        value = (1/max([distances[i],.01]))* speeds[i]\n",
    "        frame_values.append(value)\n",
    "    return(max(frame_values))\n",
    "\n",
    "# Summation of (1/D)* Speed * QB speed for each frame\n",
    "def pm3(distances: np.array, speeds: np.array, qb_speeds: np.array\n",
    "       ) -> (int):\n",
    "    if distances is None:\n",
    "        return None\n",
    "    frame_values = []\n",
    "    for i in range(len(distances)):\n",
    "        value = (1/max([distances[i],.01]))* speeds[i] * qb_speeds[i]\n",
    "        frame_values.append(value)\n",
    "    return(sum(frame_values))\n",
    "\n",
    "# Max Frame Value of (1/D)* Speed * QB speed\n",
    "def pm4(distances: np.array, speeds: np.array, qb_speeds: np.array\n",
    "       ) -> (int):\n",
    "    if distances is None:\n",
    "        return None\n",
    "    frame_values = []\n",
    "    for i in range(len(distances)):\n",
    "        value = (1/max([distances[i],.01]))* speeds[i] * qb_speeds[i]\n",
    "        frame_values.append(value)\n",
    "    return(max(frame_values))\n",
    "\n",
    "# Minimum Distance from QB\n",
    "def pm5(distances: np.array\n",
    "       ) -> (int):\n",
    "    if distances is None:\n",
    "        return None\n",
    "    return(min(distances))\n",
    "\n",
    "# Time to release\n",
    "def pm6(distances: np.array\n",
    "       ) -> (int):\n",
    "    if distances is None:\n",
    "        return None\n",
    "    return(len(distances))\n",
    "\n",
    "#Store the pff data the pff_data dataframe. This data will be used to get the QB and pass rusher ID for each play\n",
    "#This data will be used as the data for the get_players() function to return QB, Rushers, OL, and trick/ no trick\n",
    "\n",
    "\n",
    "pff_data = pd.read_csv(\"/kaggle/input/nfl-big-data-bowl-2023/pffScoutingData.csv\")\n",
    "\n",
    "#Import play data\n",
    "#'gameID' and 'playID' from this data will be used to loop through the pff_data with the get_players() function\n",
    "#Visulaizations help us see how many plays are removed by only looking at Traditional and Scrambles\n",
    "\n",
    "data = pd.read_csv(\"/kaggle/input/nfl-big-data-bowl-2023/plays.csv\")\n",
    "\n",
    "#Drop all pass plays except Traditional Drop Back and Scramble, excluding designed runs and designed roll outs\n",
    "data = data[(data['dropBackType'].isin(['TRADITIONAL', 'SCRAMBLE']))]\n",
    "\n",
    "#This cell creates a single dataframe (games_df) with all the positional data\n",
    "#games_df will be used as the data in the get_distances() function\n",
    "files = ['/kaggle/input/nfl-big-data-bowl-2023/week1.csv', \n",
    "         '/kaggle/input/nfl-big-data-bowl-2023/week2.csv', \n",
    "         '/kaggle/input/nfl-big-data-bowl-2023/week3.csv', \n",
    "         '/kaggle/input/nfl-big-data-bowl-2023/week4.csv', \n",
    "         '/kaggle/input/nfl-big-data-bowl-2023/week5.csv', \n",
    "         '/kaggle/input/nfl-big-data-bowl-2023/week6.csv', \n",
    "         '/kaggle/input/nfl-big-data-bowl-2023/week7.csv', \n",
    "         '/kaggle/input/nfl-big-data-bowl-2023/week8.csv']\n",
    "\n",
    "games_df = pd.DataFrame()\n",
    "for i in files:\n",
    "    week_df = pd.read_csv(i)\n",
    "    games_df = pd.concat([games_df, week_df], axis=0)\n",
    "    \n",
    "#Create List of Games and Plays \n",
    "\n",
    "games = data['gameId']\n",
    "plays = data['playId']\n",
    "\n",
    "#Save plays_data\n",
    "plays_data = [get_players(gameid=game, playid=play, data=pff_data)\n",
    "           for game, play in zip(games, plays)]\n",
    "\n",
    "#Save play_data with positionals\n",
    "plays_with_positional = [get_distances(dictionary=play_dict, data=games_df) for play_dict in plays_data]\n",
    "\n",
    "#Create lists for the pass rushes data frame\n",
    "\n",
    "rush_time_cutoff = 20\n",
    "play_id = []\n",
    "game_id = []\n",
    "rusher_id = []\n",
    "rush_instances = []\n",
    "distances = []\n",
    "speeds = []\n",
    "qb_speeds = []\n",
    "outcomes = []\n",
    "counter = []\n",
    "for i in plays_with_positional:\n",
    "    if i == None:\n",
    "        continue\n",
    "    if i['Rushers'] == None:\n",
    "        continue\n",
    "    \n",
    "    if i['rush_time'] >= rush_time_cutoff and i['Trick'] != 1:\n",
    "        for j in i['Rushers']:\n",
    "            outcomes.append(i['Rushers'][j]['stats'])\n",
    "            distances.append(i['Rushers'][j]['Positional_data']['distances'])\n",
    "            speeds.append(i['Rushers'][j]['Positional_data']['speeds'])\n",
    "            qb_speeds.append(i['Rushers'][j]['Positional_data']['speeds'])\n",
    "            rush_instances.append('Valid')\n",
    "            counter.append(1)\n",
    "            play_id.append(i['play_id'])\n",
    "            game_id.append(i['game_id'])\n",
    "            rusher_id.append(j)\n",
    "    elif i['rush_time'] <= rush_time_cutoff:\n",
    "        for j in i['Rushers']:\n",
    "            outcomes.append(None)\n",
    "            distances.append(None)\n",
    "            speeds.append(None)\n",
    "            qb_speeds.append(None)\n",
    "            rush_instances.append('Short')\n",
    "            counter.append(1)\n",
    "            play_id.append(i['play_id'])\n",
    "            game_id.append(i['game_id'])\n",
    "            rusher_id.append(j)\n",
    "    elif i['Trick'] == 1:\n",
    "        for j in i['Rushers']:\n",
    "            outcomes.append(None)\n",
    "            distances.append(None)\n",
    "            speeds.append(None)\n",
    "            qb_speeds.append(None)\n",
    "            rush_instances.append('Trick')\n",
    "            counter.append(1)\n",
    "            play_id.append(i['play_id'])\n",
    "            game_id.append(i['game_id'])\n",
    "            rusher_id.append(j)\n",
    "            \n",
    "#Transform positional data into predictor values for regression\n",
    "pm1_values = []\n",
    "pm2_values = []\n",
    "pm3_values = []\n",
    "pm4_values = []\n",
    "pm5_values = []\n",
    "pm6_values = []\n",
    "for i in range(len(rush_instances)):\n",
    "    pm1_values.append(pm1(distances=distances[i], speeds=speeds[i]))\n",
    "    pm2_values.append(pm2(distances=distances[i], speeds=speeds[i]))\n",
    "    pm3_values.append(pm3(distances=distances[i], speeds=speeds[i], qb_speeds=qb_speeds[i]))\n",
    "    pm4_values.append(pm4(distances=distances[i], speeds=speeds[i], qb_speeds=qb_speeds[i]))\n",
    "    pm5_values.append(pm5(distances=distances[i]))\n",
    "    pm6_values.append(pm6(distances=distances[i]))\n",
    "\n",
    "#Assemble full pass rushes dataframe\n",
    "pass_rushes_df = pd.DataFrame(zip(game_id, play_id, rusher_id, pm1_values, pm2_values, pm3_values, pm4_values, pm5_values, pm6_values, np.asarray(rush_instances), np.asarray(distances), np.asarray(speeds), np.asarray(qb_speeds), np.asarray(outcomes), np.asarray(counter)),\n",
    "               columns =['game_id', 'play_id','rusher_id','PM1', 'PM2', 'PM3', 'PM4', 'PM5', 'PM6','Rush Classifier', 'Distances', 'Speeds', 'Qb_speeds','Outcomes','counter'])\n",
    "\n",
    "\n",
    "#Drop null values and select for valid plays to create regression dataframe\n",
    "regression_data = pass_rushes_df.dropna(axis=0)[(pass_rushes_df['Rush Classifier'] == 'Valid')]\n",
    "\n",
    "#Count outcome breakdown\n",
    "\n",
    "total_observations = len(regression_data)\n",
    "none_observations = regression_data.groupby('Outcomes').count()['counter'][2]\n",
    "none_percent = round(none_observations/total_observations, 2)*100\n",
    "hurry_observations = regression_data.groupby('Outcomes').count()['counter'][1]\n",
    "hurry_percent = round(hurry_observations/total_observations, 2)*100\n",
    "hit_observations = regression_data.groupby('Outcomes').count()['counter'][0]\n",
    "hit_percent = round(hit_observations/total_observations, 2)*100\n",
    "sack_observations = regression_data.groupby('Outcomes').count()['counter'][3]\n",
    "sack_percent = round(sack_observations/total_observations, 2)*100\n",
    "\n",
    "#Give numerical values to the outcomes\n",
    "regression_data['Response'] = regression_data.apply(lambda row: 0 if row['Outcomes'] == \"none\" else (3 if row['Outcomes'] == 'hurry' else (4 if row['Outcomes'] == 'hit' else 5)) , axis=1)\n",
    "\n",
    "#Split train and test\n",
    "train_set, test_set = train_test_split(regression_data, test_size=0.2, random_state=120, shuffle=True)\n",
    "\n",
    "#Assign predictor and response variables\n",
    "predictors = ['PM1', 'PM2', 'PM3', 'PM4', 'PM5', 'PM6']\n",
    "response = ['Response']\n",
    "\n",
    "#Create train and test sets\n",
    "x_train = train_set[predictors]\n",
    "y_train = train_set[response]\n",
    "x_test = test_set[predictors]\n",
    "y_test = test_set[response]\n",
    "\n",
    "#Loop through max_depths and choose the best test_mse to tune max depth hyperparameter\n",
    "depths = [1,2,3,4,5,6,7,8,9,10]\n",
    "depth_scores = {}\n",
    "for i in depths:\n",
    "    randomforest = RandomForestRegressor(n_estimators=300, max_features='sqrt', max_depth=i).fit(x_train,y_train);\n",
    "    y_train_pred = randomforest.predict(x_train)\n",
    "    y_test_pred = randomforest.predict(x_test)\n",
    "    train_mse = mean_squared_error(y_train, y_train_pred)\n",
    "    test_mse = mean_squared_error(y_test, y_test_pred)\n",
    "    depth_scores[i] = {'test_mse': test_mse , 'train_mse': train_mse}\n",
    "    \n",
    "rf_test_mses = []\n",
    "rf_train_mses = []\n",
    "for i in depth_scores:\n",
    "    rf_test_mses.append(depth_scores[i]['test_mse'])\n",
    "    rf_train_mses.append(depth_scores[i]['train_mse'])\n",
    "    \n",
    "low_test_mse = min(rf_test_mses)\n",
    "low_train_mse = rf_train_mses[rf_test_mses.index(low_test_mse)]\n",
    "best_depth = rf_test_mses.index(low_test_mse)+1\n",
    "\n",
    "#Train model based on best_depth hyper parameter\n",
    "best_randomforest = RandomForestRegressor(n_estimators=300, max_features='sqrt', oob_score=True, max_depth=best_depth).fit(x_train,y_train)\n",
    "\n",
    "#Create test predictions with best model\n",
    "y_test_pred = best_randomforest.predict(x_test)\n",
    "\n",
    "#Assemble full dataset with Random Forest Generated PRPM\n",
    "\n",
    "randomforest_prpm = best_randomforest.predict(regression_data[predictors])\n",
    "data_with_rfprpm = regression_data\n",
    "data_with_rfprpm['randomforest_prpm'] = randomforest_prpm\n",
    "\n",
    "#Attach Player Names to randomforest_prpm\n",
    "players_data = pd.read_csv('/kaggle/input/nfl-big-data-bowl-2023/players.csv')\n",
    "listednflids = list(data_with_rfprpm['rusher_id'].values)\n",
    "names = []\n",
    "positions = []\n",
    "for i in listednflids:\n",
    "    player_row = players_data[players_data['nflId'] == i]\n",
    "    name = player_row['displayName'].values[0]\n",
    "    position = player_row['officialPosition'].values[0]\n",
    "    names.append(name)\n",
    "    positions.append(position)\n",
    "\n",
    "data_with_rfprpm['name'] = names\n",
    "data_with_rfprpm['position'] = positions\n",
    "\n",
    "\n",
    "\n",
    "#Select for players that have more than 30 rushes on the year\n",
    "data_with_rfprpm = data_with_rfprpm[data_with_rfprpm.groupby('name')['name'].transform('size') > 30]\n",
    "\n",
    "#Separate the positions into DE, DT, and OLB\n",
    "DE_rfprpm = data_with_rfprpm[data_with_rfprpm['position'] == 'DE'].groupby('name').mean().sort_values(by='randomforest_prpm', ascending=False)[['randomforest_prpm', 'rusher_id']]\n",
    "DT_rfprpm = data_with_rfprpm[data_with_rfprpm['position'] == 'DT'].groupby('name').mean().sort_values(by='randomforest_prpm', ascending=False)[['randomforest_prpm', 'rusher_id']]\n",
    "OLB_rfprpm = data_with_rfprpm[data_with_rfprpm['position'] == 'OLB'].groupby('name').mean().sort_values(by='randomforest_prpm', ascending=False)[['randomforest_prpm', 'rusher_id']]\n",
    "\n",
    "DE_rfprpm['name'] = list(DE_rfprpm.index.values)\n",
    "DT_rfprpm['name'] = list(DT_rfprpm.index.values)\n",
    "OLB_rfprpm['name'] = list(OLB_rfprpm.index.values)\n",
    "\n",
    "#Organize player stats over weeks 1-8\n",
    "sack_sorted = pff_data.groupby('nflId').sum().sort_values(by='pff_sack', ascending = False).reset_index()\n",
    "num_sacks = list(sack_sorted['pff_sack'])\n",
    "sack_rank = list(sack_sorted.index.values+1)\n",
    "top_ids = list(sack_sorted['nflId'].values)\n",
    "sack_sorted_df = pd.DataFrame(zip(top_ids,sack_rank,num_sacks),\n",
    "               columns =['nflId', 'sack_rank','num_sacks'])\n",
    "\n",
    "\n",
    "hits_sorted = pff_data.groupby('nflId').sum().sort_values(by='pff_hit', ascending = False).reset_index()\n",
    "num_hits = list(hits_sorted['pff_hit'])\n",
    "hits_rank = list(hits_sorted.index.values+1)\n",
    "top_ids = list(hits_sorted['nflId'].values)\n",
    "hits_sorted_df =  pd.DataFrame(zip(top_ids,hits_rank,num_hits),\n",
    "               columns =['nflId', 'hits_rank','num_hits'])\n",
    "\n",
    "hurry_sorted = pff_data.groupby('nflId').sum().sort_values(by='pff_hurry', ascending = False).reset_index()\n",
    "num_hurry = list(hurry_sorted['pff_hit'])\n",
    "hurry_rank = list(hurry_sorted.index.values+1)\n",
    "top_ids = list(hurry_sorted['nflId'].values)\n",
    "hurry_sorted_df =  pd.DataFrame(zip(top_ids, hurry_rank, num_hurry),\n",
    "               columns =['nflId', 'hurry_rank','num_hurries'])\n",
    "\n",
    "#Merge Sacks and Hits into sack_hits\n",
    "sack_hits = pd.merge(\n",
    "    left=sack_sorted_df,\n",
    "    right=hits_sorted_df,\n",
    "    left_on='nflId',\n",
    "    right_on='nflId',\n",
    "    how='left'\n",
    ")\n",
    "\n",
    "#Merge sack_hits and hurry into player_stats_df\n",
    "player_stats_df = pd.merge(\n",
    "    left=sack_hits,\n",
    "    right=hurry_sorted_df,\n",
    "    left_on='nflId',\n",
    "    right_on='nflId',\n",
    "    how='left'\n",
    ")\n",
    "\n",
    "player_stats_df.head()\n",
    "\n",
    "#Merge DE_rfprpm and player_stats_df into DE_stats\n",
    "DE_stats = pd.merge(\n",
    "    left=DE_rfprpm,\n",
    "    right=player_stats_df,\n",
    "    left_on='rusher_id',\n",
    "    right_on='nflId',\n",
    "    how='left',\n",
    ")\n",
    "\n",
    "#Merge DT_rfprpm and player_stats_df into DT_stats\n",
    "DT_stats = pd.merge(\n",
    "    left=DT_rfprpm,\n",
    "    right=player_stats_df,\n",
    "    left_on='rusher_id',\n",
    "    right_on='nflId',\n",
    "    how='left',\n",
    ")\n",
    "\n",
    "#Merge OLB_rfprpm and player_stats_df into OLB_stats\n",
    "OLB_stats = pd.merge(\n",
    "    left=OLB_rfprpm,\n",
    "    right=player_stats_df,\n",
    "    left_on='rusher_id',\n",
    "    right_on='nflId',\n",
    "    how='left',\n",
    ")"
   ]
  },
  {
   "cell_type": "markdown",
   "id": "594d962e",
   "metadata": {
    "papermill": {
     "duration": 0.007743,
     "end_time": "2023-01-09T23:57:03.330443",
     "exception": false,
     "start_time": "2023-01-09T23:57:03.322700",
     "status": "completed"
    },
    "tags": []
   },
   "source": [
    "_____\n",
    "## **Pass Rush Pressure Metric (PRPM)**: \n",
    "***A Machine-Learning Based Method for Assessing Pass Rusher Effectiveness***\n",
    "\n",
    "By Maximilian Jones and Benjamin Zeisberg\n",
    "\n",
    "Harvard College"
   ]
  },
  {
   "cell_type": "markdown",
   "id": "4613ad8a",
   "metadata": {
    "papermill": {
     "duration": 0.00711,
     "end_time": "2023-01-09T23:57:03.345332",
     "exception": false,
     "start_time": "2023-01-09T23:57:03.338222",
     "status": "completed"
    },
    "tags": []
   },
   "source": [
    "## **1. Introduction**\n",
    "\n",
    "Current methods for evaluating pass rushers lack a comprehensive and quantitative metric. Pro Football Focus (PFF) grades rushers based on if they win their block and how quickly they do so and records several stats such as hurries, hits, and sacks${^1}$. PFF grades are the most comprehensive way to measure pass rushers but require manual grading and often are scrutinized for their subjectivity. \n",
    "\n",
    "PFF’s pass-rush productivity metric measures pressure on a per-snap basis with a weighting toward sacks${^2}$; ESPN defines rushers' performance based on their \"Win Rate,\" or how often they beat their block within 2.5 seconds${^3}$, while Stats Perform measures \"Pressure Rate,\" or how often a defender gets into the backfield and has an unabated path to the quarterback${^4}$. Not all sacks are equally impressive–hits and hurries alike– and while these metrics provide some insight into pass-rusher performance, they fail to distinguish between plays with the same statistical outcome and overlook plays where a rusher doesn’t record a statistic. \n",
    "\n",
    "**To address this gap in pass-rush evaluation, we propose the Pass Rush Pressure Metric (PRPM), a continuous quantitative metric that scores a rusher on every pass play. Derived from player positional data, PRPM aims to provide a more comprehensive method for assessing pass-rusher efficiency without the need for manual grading.**"
   ]
  },
  {
   "cell_type": "markdown",
   "id": "7a08ec61",
   "metadata": {
    "papermill": {
     "duration": 0.006989,
     "end_time": "2023-01-09T23:57:03.359688",
     "exception": false,
     "start_time": "2023-01-09T23:57:03.352699",
     "status": "completed"
    },
    "tags": []
   },
   "source": [
    "______\n",
    "## **2. Random Forest Regressor Generated PRPM**"
   ]
  },
  {
   "cell_type": "markdown",
   "id": "19af00cd",
   "metadata": {
    "papermill": {
     "duration": 0.007001,
     "end_time": "2023-01-09T23:57:03.374176",
     "exception": false,
     "start_time": "2023-01-09T23:57:03.367175",
     "status": "completed"
    },
    "tags": []
   },
   "source": [
    "**2.1 Overview**\n",
    "\n",
    "To generate the pass rush pressure metric, we use a Random Forest Regressor, an ensemble method for regression. Based on the pass rusher’s euclidian distance from quarterback and speed, and the quarterback’s speed for each frame between the snap and end of the pass attempt the model predicts the outcome of the pass rush on a scale from 0-5, 0 being the least effective rush and 5 being the most effective rush. The regression assigns the values 0, 3, 4, and 5 to the possible outcomes none, hurry, hit, and sack, respectively. Values were assigned based on the perceived importance of each stat, none being worthless and sacks being worth the most. Since sklearn’s Random Forest Regressors cannot handle array data as predictors, we performed several transformations on the positional data for each play and used those as predictors (see 2.1 Data Pre-processing). The weak learners (trees) in this model create hundreds of predictions for the result of a pass rush based on a rusher and quarterback’s movements. When combined, these weak learners provide a strong predictive metric, ranging from 0-5, representing the effectiveness of a pass rush attempt."
   ]
  },
  {
   "cell_type": "markdown",
   "id": "70db8244",
   "metadata": {
    "papermill": {
     "duration": 0.007738,
     "end_time": "2023-01-09T23:57:03.389268",
     "exception": false,
     "start_time": "2023-01-09T23:57:03.381530",
     "status": "completed"
    },
    "tags": []
   },
   "source": [
    "**2.2 Data Pre Processing**\n",
    "\n",
    "To gather the data, we looped through every play of every game listed in the plays.csv file and used the pffScoutingData.csv file to pull the nflId of all pass rushers and quarterbacks. With the nflId of all relevant players, we looped through players for each play and pulled the euclidian distance from the quarterback and speed for pass rushers and speed for Quarterbacks. This function only pulled the positional and speed data between the snap and end of the pass attempt (sack, rush, or ball release) – we focused our analysis on this time because that pre-snap and post-pass movements are not important for measuring pass rush pressure. \n",
    "\n",
    "Rows with null values and observations where the time between snap and end of the pass attempt was less than two seconds were removed from the data. We removed these shorter observations to eliminate screen passes, quick passes, and other plays where a rusher doesn’t have sufficient time to produce an effective pass rush. The remaining observations are shown in figure 1. "
   ]
  },
  {
   "cell_type": "code",
   "execution_count": 3,
   "id": "4030e6bd",
   "metadata": {
    "_kg_hide-input": true,
    "execution": {
     "iopub.execute_input": "2023-01-09T23:57:03.407655Z",
     "iopub.status.busy": "2023-01-09T23:57:03.406467Z",
     "iopub.status.idle": "2023-01-09T23:57:03.414129Z",
     "shell.execute_reply": "2023-01-09T23:57:03.412953Z"
    },
    "papermill": {
     "duration": 0.020034,
     "end_time": "2023-01-09T23:57:03.417270",
     "exception": false,
     "start_time": "2023-01-09T23:57:03.397236",
     "status": "completed"
    },
    "tags": []
   },
   "outputs": [
    {
     "name": "stdout",
     "output_type": "stream",
     "text": [
      "Figure 1: Processed Data Makeup \n",
      "\n",
      "The data set contained 27874 observations:\n",
      "\n",
      "\tNone\t24315 (87.0%)\n",
      "\tHurry\t2327 (8.0%)\n",
      "\tHit\t691 (2.0%)\n",
      "\tSack\t541 (2.0%)\n"
     ]
    }
   ],
   "source": [
    "# Print Observation Breakdown\n",
    "print(\n",
    "    \"Figure 1: Processed Data Makeup \\n\\nThe data set contained {} observations:\\n\\n\\tNone\\t{} ({}%)\\n\\tHurry\\t{} ({}%)\\n\\tHit\\t{} ({}%)\\n\\tSack\\t{} ({}%)\"\n",
    "    .format(\n",
    "        total_observations,\n",
    "        none_observations,\n",
    "        none_percent,\n",
    "        hurry_observations,\n",
    "        hurry_percent,\n",
    "        hit_observations,\n",
    "        hit_percent,\n",
    "        sack_observations,\n",
    "        sack_percent,\n",
    "    )\n",
    ")"
   ]
  },
  {
   "cell_type": "markdown",
   "id": "745f7234",
   "metadata": {
    "papermill": {
     "duration": 0.007321,
     "end_time": "2023-01-09T23:57:03.432438",
     "exception": false,
     "start_time": "2023-01-09T23:57:03.425117",
     "status": "completed"
    },
    "tags": []
   },
   "source": [
    "Since Random Forest Regressors can’t handle array data as predictors, we derived 6 values from the positional data that contain information about the pass rush and intuitively describe its effectiveness these values, PM1-6, are shown in Figure 2."
   ]
  },
  {
   "cell_type": "markdown",
   "id": "8ac753a2",
   "metadata": {
    "papermill": {
     "duration": 0.007286,
     "end_time": "2023-01-09T23:57:03.447554",
     "exception": false,
     "start_time": "2023-01-09T23:57:03.440268",
     "status": "completed"
    },
    "tags": []
   },
   "source": [
    "Figure 2: PM1-6 Transformations for Positional Data\n",
    "\n",
    "- $PM_1 = \\sum_{f=1}^{f=z} (\\frac{1}{d^2} * s) $\n",
    "    - where $d$ = Distance to Quarterback, $s$ = Speed, $z$ = Frame\n",
    "    - PM1 represents the speed that a rusher is moving, weighted by their proximity to the quarterback. Intuitively this makes sense as a measure of pressure because the closer and faster moving a player is to the QB, the more likely they are to pressure or hit the quarterback. \n",
    "- $PM_2 = \\text{max_value}((\\frac{1}{d} * s))$\n",
    "    - PM2 evaluates the same function as PM1, but instead of taking the summation of values, it only takes the frame with the highest value. \n",
    "- $PM_3 = \\sum_{f=1}^{f=z} (\\frac{1}{d} * s * q) $\n",
    "    - where $q$ = QB Speed\n",
    "    - PM3 adds Quarterback speed into the equation. We introduce quarterback speed becuase it can be an indicator of the quarterback running to evade the rusher.\n",
    "- $PM_4 = \\text{max_value}((\\frac{1}{d} * s * q))$\n",
    "    - PM4 is the same as PM3, but instead of taking the summation of values, it only takes the frame with the highest value. \n",
    "- $PM_5$ = minimum distance between rusher and QB during a play\n",
    "    - We introduced minimum distance because the closer a rusher is to the quarterback, the more likely they are to register a stat\n",
    "- $PM_6$ = time between snap and the end of the pass attempt in frames $\\frac{1}{10}th$ seconds\n",
    "    - where $T = Time$ between snap and ball release or sack\n",
    "    - We introduced time because we hypothesize that the longer the quarterback holds on to the ball, the less likely it is that he was pressured during the play. "
   ]
  },
  {
   "cell_type": "markdown",
   "id": "cdece5fa",
   "metadata": {
    "papermill": {
     "duration": 0.00694,
     "end_time": "2023-01-09T23:57:03.461630",
     "exception": false,
     "start_time": "2023-01-09T23:57:03.454690",
     "status": "completed"
    },
    "tags": []
   },
   "source": [
    "**2.2 Random Forest Regressor Model Results**\n",
    "\n",
    "We split the data into train (80%) and test (20%) sets and used the training set to fit a RandomForestRegressor from the sklearn library. PM1-6 are used as predictors and play outcome none = 0, hurry = 3, hit = 4, and sack = 5 is used as the response variable. We train the model using hyperparameters n_estimators = 300 and we tune the model to determine the maximum tree depth by looping through depths 1-10 and evaluating the model based on Mean Squared Error for the test set. The best performing max depth is saved in ‘best_depth’ and the ‘best_randomforest’ is then trained based on that parameter. Residual values (Figure 3) and average predicted PRPM for each outcome are (Figure 4) are shown below. \n"
   ]
  },
  {
   "cell_type": "code",
   "execution_count": 4,
   "id": "2f0dbfa9",
   "metadata": {
    "_kg_hide-input": true,
    "execution": {
     "iopub.execute_input": "2023-01-09T23:57:03.478226Z",
     "iopub.status.busy": "2023-01-09T23:57:03.477718Z",
     "iopub.status.idle": "2023-01-09T23:57:03.737511Z",
     "shell.execute_reply": "2023-01-09T23:57:03.736484Z"
    },
    "papermill": {
     "duration": 0.271419,
     "end_time": "2023-01-09T23:57:03.740313",
     "exception": false,
     "start_time": "2023-01-09T23:57:03.468894",
     "status": "completed"
    },
    "tags": []
   },
   "outputs": [
    {
     "data": {
      "image/png": "[encoded data removed]",
      "text/plain": [
       "<Figure size 432x288 with 1 Axes>"
      ]
     },
     "metadata": {
      "needs_background": "light"
     },
     "output_type": "display_data"
    }
   ],
   "source": [
    "residuals = y_test['Response'] - y_test_pred\n",
    "plt.hist(residuals)\n",
    "plt.xlabel('Residuals')\n",
    "plt.ylabel('Count')\n",
    "plt.title('Figure 3: Random Forest Regressor Residuals')\n",
    "plt.show()"
   ]
  },
  {
   "cell_type": "code",
   "execution_count": 5,
   "id": "4761b1df",
   "metadata": {
    "_kg_hide-input": true,
    "execution": {
     "iopub.execute_input": "2023-01-09T23:57:03.764466Z",
     "iopub.status.busy": "2023-01-09T23:57:03.763557Z",
     "iopub.status.idle": "2023-01-09T23:57:03.776080Z",
     "shell.execute_reply": "2023-01-09T23:57:03.774775Z"
    },
    "papermill": {
     "duration": 0.027354,
     "end_time": "2023-01-09T23:57:03.778713",
     "exception": false,
     "start_time": "2023-01-09T23:57:03.751359",
     "status": "completed"
    },
    "tags": []
   },
   "outputs": [
    {
     "name": "stdout",
     "output_type": "stream",
     "text": [
      "Figure 4 Average PRPM for Pass Rush Outcomes\n",
      "+----------+------------------------+\n",
      "| Outcomes | Mean randomforest_prpm |\n",
      "+----------+------------------------+\n",
      "| hit      | 2.5787343263561895     |\n",
      "| hurry    | 1.860932710979182      |\n",
      "| none     | 0.16377129551095937    |\n",
      "| sack     | 3.9766429773698473     |\n",
      "+----------+------------------------+\n"
     ]
    }
   ],
   "source": [
    "print('Figure 4 Average PRPM for Pass Rush Outcomes')\n",
    "# Group the data by Outcomes and compute the mean of the randomforest_prpm column\n",
    "grouped_data = data_with_rfprpm.groupby('Outcomes')['randomforest_prpm'].mean()\n",
    "\n",
    "# Create a PrettyTable object\n",
    "table = PrettyTable()\n",
    "\n",
    "# Set the column names and align the text\n",
    "table.field_names = [\"Outcomes\", \"Mean randomforest_prpm\"]\n",
    "table.align = \"l\"\n",
    "\n",
    "# Add the rows to the table\n",
    "for outcomes, value in grouped_data.items():\n",
    "    table.add_row([outcomes, value])\n",
    "\n",
    "# Print the table\n",
    "print(table)\n"
   ]
  },
  {
   "cell_type": "markdown",
   "id": "100833bc",
   "metadata": {
    "papermill": {
     "duration": 0.007654,
     "end_time": "2023-01-09T23:57:03.794201",
     "exception": false,
     "start_time": "2023-01-09T23:57:03.786547",
     "status": "completed"
    },
    "tags": []
   },
   "source": [
    "**2.3 Player Rankings**\n",
    "\n",
    "Using the PRPM we are able to evaluate pass rushers based on their average PRPM per rush. The top ranking pass rushers for Defensive Ends, Defensive Tackles, and Outside Line Backers are shown with their pass rush stats in figures 5, 6, and 7, respectively. "
   ]
  },
  {
   "cell_type": "code",
   "execution_count": 6,
   "id": "7edf6bea",
   "metadata": {
    "_kg_hide-input": true,
    "execution": {
     "iopub.execute_input": "2023-01-09T23:57:03.813524Z",
     "iopub.status.busy": "2023-01-09T23:57:03.811389Z",
     "iopub.status.idle": "2023-01-09T23:57:03.826808Z",
     "shell.execute_reply": "2023-01-09T23:57:03.825536Z"
    },
    "papermill": {
     "duration": 0.029092,
     "end_time": "2023-01-09T23:57:03.830645",
     "exception": false,
     "start_time": "2023-01-09T23:57:03.801553",
     "status": "completed"
    },
    "tags": []
   },
   "outputs": [
    {
     "name": "stdout",
     "output_type": "stream",
     "text": [
      "Figure 5: Defensive End Pass Rush Rankings According to PRPM\n",
      "+--------------------+--------------------+-----------+-----------+------------+\n",
      "| Name               | randomforest_prpm  | sack_rank | hits_rank | hurry_rank |\n",
      "+--------------------+--------------------+-----------+-----------+------------+\n",
      "| Myles Garrett      | 0.9454335899486322 | 1         | 5         | 2          |\n",
      "| Trey Hendrickson   | 0.9386791640421159 | 2         | 26        | 4          |\n",
      "| Yannick Ngakoue    | 0.7575349290552313 | 42        | 33        | 19         |\n",
      "| Randy Gregory      | 0.7377045067554328 | 17        | 13        | 22         |\n",
      "| Nick Bosa          | 0.7137393221381826 | 8         | 6         | 47         |\n",
      "| A.J. Epenesa       | 0.7103339936983999 | 791       | 46        | 92         |\n",
      "| Jadeveon Clowney   | 0.7015121701429551 | 27        | 59        | 25         |\n",
      "| Takkarist McKinley | 0.6956612073533822 | 81        | 71        | 108        |\n",
      "| Alton Robinson     | 0.6941552462586388 | 139       | 700       | 133        |\n",
      "| Maxx Crosby        | 0.6606919013228777 | 10        | 1         | 1          |\n",
      "+--------------------+--------------------+-----------+-----------+------------+\n"
     ]
    }
   ],
   "source": [
    "#DE Rankings\n",
    "# Extract the top 10 rows\n",
    "top_rows = DE_stats[['name','randomforest_prpm', 'sack_rank', 'hits_rank', 'hurry_rank']].head(10)\n",
    "\n",
    "# Create a PrettyTable object\n",
    "table = PrettyTable()\n",
    "\n",
    "# Set the column names and align the text\n",
    "table.field_names = [\"Name\", \"randomforest_prpm\", \"sack_rank\", \"hits_rank\", \"hurry_rank\"]\n",
    "table.align = \"l\"\n",
    "\n",
    "# Add the rows to the table\n",
    "for _, row in top_rows.iterrows():\n",
    "    table.add_row([row['name'], row['randomforest_prpm'], row['sack_rank'], row['hits_rank'], row['hurry_rank']])\n",
    "\n",
    "# Print the table\n",
    "print('Figure 5: Defensive End Pass Rush Rankings According to PRPM')\n",
    "print(table)"
   ]
  },
  {
   "cell_type": "code",
   "execution_count": 7,
   "id": "005e3821",
   "metadata": {
    "_kg_hide-input": true,
    "execution": {
     "iopub.execute_input": "2023-01-09T23:57:03.856200Z",
     "iopub.status.busy": "2023-01-09T23:57:03.854857Z",
     "iopub.status.idle": "2023-01-09T23:57:03.868153Z",
     "shell.execute_reply": "2023-01-09T23:57:03.867141Z"
    },
    "papermill": {
     "duration": 0.029594,
     "end_time": "2023-01-09T23:57:03.871691",
     "exception": false,
     "start_time": "2023-01-09T23:57:03.842097",
     "status": "completed"
    },
    "tags": []
   },
   "outputs": [
    {
     "name": "stdout",
     "output_type": "stream",
     "text": [
      "Figure 6: Defensive Tackle Pass Rush Rankings According to PRPM\n",
      "+-------------------+--------------------+-----------+-----------+------------+\n",
      "| Name              | randomforest_prpm  | sack_rank | hits_rank | hurry_rank |\n",
      "+-------------------+--------------------+-----------+-----------+------------+\n",
      "| Javon Hargrave    | 0.6917376014760419 | 28        | 35        | 46         |\n",
      "| Aaron Donald      | 0.5730659402608983 | 12        | 9         | 12         |\n",
      "| Ross Blacklock    | 0.5637229872483265 | 214       | 258       | 132        |\n",
      "| Jonathan Allen    | 0.5240543923949517 | 13        | 8         | 17         |\n",
      "| Solomon Thomas    | 0.5239973160968445 | 53        | 17        | 81         |\n",
      "| Akiem Hicks       | 0.509143646778355  | 59        | 83        | 218        |\n",
      "| Quinton Jefferson | 0.4970562411018567 | 60        | 31        | 130        |\n",
      "| Chris Jones       | 0.4903789558967623 | 73        | 84        | 30         |\n",
      "| Jeffery Simmons   | 0.4730800647761049 | 33        | 73        | 7          |\n",
      "| Osa Odighizuwa    | 0.4685288511222332 | 55        | 97        | 28         |\n",
      "+-------------------+--------------------+-----------+-----------+------------+\n"
     ]
    }
   ],
   "source": [
    "#DT Rankings\n",
    "# Extract the top 10 rows\n",
    "top_rows = DT_stats[['name','randomforest_prpm', 'sack_rank', 'hits_rank', 'hurry_rank']].head(10)\n",
    "\n",
    "# Create a PrettyTable object\n",
    "table = PrettyTable()\n",
    "\n",
    "# Set the column names and align the text\n",
    "table.field_names = [\"Name\", \"randomforest_prpm\", \"sack_rank\", \"hits_rank\", \"hurry_rank\"]\n",
    "table.align = \"l\"\n",
    "\n",
    "# Add the rows to the table\n",
    "for _, row in top_rows.iterrows():\n",
    "    table.add_row([row['name'], row['randomforest_prpm'], row['sack_rank'], row['hits_rank'], row['hurry_rank']])\n",
    "\n",
    "# Print the table\n",
    "print('Figure 6: Defensive Tackle Pass Rush Rankings According to PRPM')\n",
    "print(table)"
   ]
  },
  {
   "cell_type": "code",
   "execution_count": 8,
   "id": "87013fc4",
   "metadata": {
    "_kg_hide-input": true,
    "execution": {
     "iopub.execute_input": "2023-01-09T23:57:03.897501Z",
     "iopub.status.busy": "2023-01-09T23:57:03.896999Z",
     "iopub.status.idle": "2023-01-09T23:57:03.910359Z",
     "shell.execute_reply": "2023-01-09T23:57:03.909038Z"
    },
    "papermill": {
     "duration": 0.029148,
     "end_time": "2023-01-09T23:57:03.913303",
     "exception": false,
     "start_time": "2023-01-09T23:57:03.884155",
     "status": "completed"
    },
    "tags": []
   },
   "outputs": [
    {
     "name": "stdout",
     "output_type": "stream",
     "text": [
      "Figure 7: Outside Line Backer Pass Rush Rankings According to PRPM\n",
      "+---------------------+--------------------+-----------+-----------+------------+\n",
      "| Name                | randomforest_prpm  | sack_rank | hits_rank | hurry_rank |\n",
      "+---------------------+--------------------+-----------+-----------+------------+\n",
      "| Frankie Luvu        | 1.0134258575682198 | 129       | 230       | 163        |\n",
      "| Micah Parsons       | 0.9207736282750643 | 48        | 43        | 41         |\n",
      "| Harold Landry       | 0.8019260598229515 | 3         | 23        | 9          |\n",
      "| K'Lavon Chaisson    | 0.7709364778237658 | 242       | 120       | 135        |\n",
      "| Olasunkanmi Adeniyi | 0.7585257596043465 | 43        | 53        | 285        |\n",
      "| Julian Okwara       | 0.7529146361278171 | 94        | 92        | 144        |\n",
      "| Romeo Okwara        | 0.7280511575548057 | 232       | 255       | 59         |\n",
      "| Rashan Gary         | 0.7217404398682871 | 21        | 3         | 10         |\n",
      "| Von Miller          | 0.6972875109493705 | 19        | 75        | 16         |\n",
      "| Robert Quinn        | 0.6821158687821007 | 16        | 161       | 48         |\n",
      "+---------------------+--------------------+-----------+-----------+------------+\n"
     ]
    }
   ],
   "source": [
    "#OLB Rankings\n",
    "# Extract the top 10 rows\n",
    "top_rows = OLB_stats[['name','randomforest_prpm', 'sack_rank', 'hits_rank', 'hurry_rank']].head(10)\n",
    "\n",
    "# Create a PrettyTable object\n",
    "table = PrettyTable()\n",
    "\n",
    "# Set the column names and align the text\n",
    "table.field_names = [\"Name\", \"randomforest_prpm\", \"sack_rank\", \"hits_rank\", \"hurry_rank\"]\n",
    "table.align = \"l\"\n",
    "\n",
    "# Add the rows to the table\n",
    "for _, row in top_rows.iterrows():\n",
    "    table.add_row([row['name'], row['randomforest_prpm'], row['sack_rank'], row['hits_rank'], row['hurry_rank']])\n",
    "\n",
    "# Print the table\n",
    "print('Figure 7: Outside Line Backer Pass Rush Rankings According to PRPM')\n",
    "print(table)"
   ]
  },
  {
   "cell_type": "markdown",
   "id": "d4d0e7c3",
   "metadata": {
    "papermill": {
     "duration": 0.010184,
     "end_time": "2023-01-09T23:57:03.934221",
     "exception": false,
     "start_time": "2023-01-09T23:57:03.924037",
     "status": "completed"
    },
    "tags": []
   },
   "source": [
    "As shown in the data, the PRPM rankings identify many elite players such as Myles Garret, Trey Hendrickson, Nick Bosa, and Maxx Crosby at defensive end, Javon Hargrave, Aaron Donald, and Jonothan Allen at defensive tackle, and Micah Parsons, Harold Landry, Von Miller, and Josh Allen at outside linebacker. Another relevant observation is PRPM scores between postitions. Defensive Ends and and Outside Linebackers create more pressure than Defensive Tackles according to our metric. Intuitively, this makes sense and stresses the importance of having talented edge rushers for a great pass rush. One unexpected result is the presence of several less know players in the top rankings by average PRPM. These are discussed in 3.2 Future Work and Improvements."
   ]
  },
  {
   "cell_type": "markdown",
   "id": "ec1f28c4",
   "metadata": {
    "papermill": {
     "duration": 0.010546,
     "end_time": "2023-01-09T23:57:03.955925",
     "exception": false,
     "start_time": "2023-01-09T23:57:03.945379",
     "status": "completed"
    },
    "tags": []
   },
   "source": [
    "# **3. Discussion**"
   ]
  },
  {
   "cell_type": "markdown",
   "id": "a5d0182a",
   "metadata": {
    "papermill": {
     "duration": 0.007874,
     "end_time": "2023-01-09T23:57:03.972237",
     "exception": false,
     "start_time": "2023-01-09T23:57:03.964363",
     "status": "completed"
    },
    "tags": []
   },
   "source": [
    "**3.1 Implications**\n",
    "\n",
    "While further analysis and testing is required. We believe that the PRPM proposed in this paper fills a need for an auto-calculated metric that can evaluate a pass rushers performance independent of stats such as hurries, hits, and sacks. \n",
    "\n",
    "The model used for generating the PRPM shows high accuracy (Figure 3), and succesfully identifies players who are well-known good pass rushers (Figures 5, 6, and 7).\n",
    "\n",
    "This metric can be used to rank pass rushers within their position, and can be expanded to evalute, offensive lineman, quarterbacks, and the effectiveness of offensive or defensive schemes ability to prevent or create pressure. "
   ]
  },
  {
   "cell_type": "markdown",
   "id": "04c59c49",
   "metadata": {
    "papermill": {
     "duration": 0.007424,
     "end_time": "2023-01-09T23:57:03.987452",
     "exception": false,
     "start_time": "2023-01-09T23:57:03.980028",
     "status": "completed"
    },
    "tags": []
   },
   "source": [
    "**3.2 Future Work and Improvements**\n",
    "\n",
    "One limitation of this work is that information is potentially lost when transforming the raw positional data into PM1-6 so that it can be handled by the Random Forest Regressor. A potential improvement would be to use a Long-Short Term Memory Nueral Network (LSTM) for regression instead of a Random Forest Regressor. An LSTM would be able to handle the raw positional data in its input layers. We considered this method, but felt more comfortable with our knowledge and understanding of Random Forest Regressors and upon evaluating our model believed that it provides a high enough accuarcy and low enough bias. \n",
    "\n",
    "Another limitation is the amount of data provided by the contest. The data provided is only weeks 1-8 of the NFL season. Ideally, we would like to train the model on an entire season's worth of data. We believe this could increase the models accuracy, reducing the test_MSE and residual values.\n",
    "\n",
    "The last improvement we would make to this model is investigating the presence of certain players atop the PRPM rankings. For example Frankie Luvu, based on the given data, is ranked 129th in sacks, 230th in hits, and 163rd in hurries, but is the highest rated OLB over players like Micah Parsons and Harold Landry. We belive that this could be because of some high outlying values. We could correct for this by ranking players based on their median PRPM score. "
   ]
  },
  {
   "cell_type": "markdown",
   "id": "88ec180a",
   "metadata": {
    "papermill": {
     "duration": 0.007311,
     "end_time": "2023-01-09T23:57:04.002680",
     "exception": false,
     "start_time": "2023-01-09T23:57:03.995369",
     "status": "completed"
    },
    "tags": []
   },
   "source": [
    "**3.3 Limitations of PRPM**\n",
    "\n",
    "There are two main limitations to the PRPM metric. \n",
    "\n",
    "**1. PRPM has no way to negatively grade players:**\n",
    "\n",
    "Unlike maunal pff grades which range from -2.5 to 2.5, PRPM ranges from 0-5. Zero meaning that the player applied no pressure during the play and 5 meaning that the player applied lots of pressure, likely resulting in a sack. PRPM can't negatively grade players if they miss out on a play that they were supposed to make. \n",
    "\n",
    "**2. PRPM doesn't take into account players ability to finish on the QB:**\n",
    "\n",
    "PRPM grades pressure based on a players movements– proximity to the quarterback and speed. This doesn't take into account a pass rusher's ability to finish on the quarterback, getting him to the ground, or other things like batted balls at the line of scrimmage. \n"
   ]
  },
  {
   "cell_type": "markdown",
   "id": "7eef342a",
   "metadata": {
    "papermill": {
     "duration": 0.007261,
     "end_time": "2023-01-09T23:57:04.017636",
     "exception": false,
     "start_time": "2023-01-09T23:57:04.010375",
     "status": "completed"
    },
    "tags": []
   },
   "source": [
    "## **4 References**"
   ]
  },
  {
   "cell_type": "markdown",
   "id": "4031ab0e",
   "metadata": {
    "execution": {
     "iopub.execute_input": "2023-01-09T20:08:10.313357Z",
     "iopub.status.busy": "2023-01-09T20:08:10.312859Z",
     "iopub.status.idle": "2023-01-09T20:08:10.324609Z",
     "shell.execute_reply": "2023-01-09T20:08:10.322646Z",
     "shell.execute_reply.started": "2023-01-09T20:08:10.313322Z"
    },
    "papermill": {
     "duration": 0.007345,
     "end_time": "2023-01-09T23:57:04.032627",
     "exception": false,
     "start_time": "2023-01-09T23:57:04.025282",
     "status": "completed"
    },
    "tags": []
   },
   "source": [
    "1.\thttps://www.pff.com/news/pro-how-pff-grades-pass-rushers\n",
    "2.\thttps://www.pff.com/news/pro-signature-stat-spotlight-pass-rushing-productivity\n",
    "3.\thttps://www.espn.com/nfl/story?id=34536376&_slug_=2022-nfl-pass-rushing-run-stopping-blocking-leaderboard-win-rate-rankings-top-players-teams\n",
    "4.\thttps://theanalyst.com/na/2021/08/measuring-the-best-at-pressuring-the-quarterback-and-pass-blocking-in-the-nfl/\n"
   ]
  }
 ],
 "metadata": {
  "kernelspec": {
   "display_name": "Python 3",
   "language": "python",
   "name": "python3"
  },
  "language_info": {
   "codemirror_mode": {
    "name": "ipython",
    "version": 3
   },
   "file_extension": ".py",
   "mimetype": "text/x-python",
   "name": "python",
   "nbconvert_exporter": "python",
   "pygments_lexer": "ipython3",
   "version": "3.7.12"
  },
  "papermill": {
   "default_parameters": {},
   "duration": 588.614792,
   "end_time": "2023-01-09T23:57:06.884351",
   "environment_variables": {},
   "exception": null,
   "input_path": "__notebook__.ipynb",
   "output_path": "__notebook__.ipynb",
   "parameters": {},
   "start_time": "2023-01-09T23:47:18.269559",
   "version": "2.3.4"
  }
 },
 "nbformat": 4,
 "nbformat_minor": 5
}
